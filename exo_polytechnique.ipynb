{
 "cells": [
  {
   "cell_type": "code",
   "execution_count": 1,
   "metadata": {},
   "outputs": [],
   "source": [
    "%load_ext autoreload\n",
    "%autoreload 2"
   ]
  },
  {
   "cell_type": "code",
   "execution_count": 2,
   "metadata": {},
   "outputs": [],
   "source": [
    "import pandas as pd\n",
    "import numpy as np"
   ]
  },
  {
   "cell_type": "code",
   "execution_count": 3,
   "metadata": {},
   "outputs": [
    {
     "data": {
      "text/plain": [
       "(1, 2, 3, 1, 2, 3, 1, 2, 3, 1, 2, 3, 1, 2, 3)"
      ]
     },
     "execution_count": 3,
     "metadata": {},
     "output_type": "execute_result"
    }
   ],
   "source": [
    "(1, 2, 3) * 5"
   ]
  },
  {
   "cell_type": "code",
   "execution_count": 4,
   "metadata": {},
   "outputs": [
    {
     "data": {
      "text/plain": [
       "[(1, 2, 3), (1, 2, 3), (1, 2, 3), (1, 2, 3), (1, 2, 3)]"
      ]
     },
     "execution_count": 4,
     "metadata": {},
     "output_type": "execute_result"
    }
   ],
   "source": [
    "[(1, 2, 3)] * 5"
   ]
  },
  {
   "cell_type": "code",
   "execution_count": 5,
   "metadata": {},
   "outputs": [],
   "source": [
    "l = [1, 2, 3]"
   ]
  },
  {
   "cell_type": "code",
   "execution_count": 6,
   "metadata": {},
   "outputs": [
    {
     "data": {
      "text/plain": [
       "3"
      ]
     },
     "execution_count": 6,
     "metadata": {},
     "output_type": "execute_result"
    }
   ],
   "source": [
    "l.pop()"
   ]
  },
  {
   "cell_type": "code",
   "execution_count": 7,
   "metadata": {},
   "outputs": [
    {
     "data": {
      "text/plain": [
       "[1, 2]"
      ]
     },
     "execution_count": 7,
     "metadata": {},
     "output_type": "execute_result"
    }
   ],
   "source": [
    "l"
   ]
  },
  {
   "cell_type": "code",
   "execution_count": 8,
   "metadata": {},
   "outputs": [],
   "source": [
    "l.append(5)"
   ]
  },
  {
   "cell_type": "code",
   "execution_count": 9,
   "metadata": {},
   "outputs": [
    {
     "data": {
      "text/plain": [
       "[1, 2, 5]"
      ]
     },
     "execution_count": 9,
     "metadata": {},
     "output_type": "execute_result"
    }
   ],
   "source": [
    "l"
   ]
  },
  {
   "cell_type": "code",
   "execution_count": 10,
   "metadata": {},
   "outputs": [
    {
     "data": {
      "text/plain": [
       "1"
      ]
     },
     "execution_count": 10,
     "metadata": {},
     "output_type": "execute_result"
    }
   ],
   "source": [
    "l.pop(0)"
   ]
  },
  {
   "cell_type": "code",
   "execution_count": 11,
   "metadata": {},
   "outputs": [
    {
     "data": {
      "text/plain": [
       "[2, 5]"
      ]
     },
     "execution_count": 11,
     "metadata": {},
     "output_type": "execute_result"
    }
   ],
   "source": [
    "l"
   ]
  },
  {
   "cell_type": "code",
   "execution_count": 12,
   "metadata": {},
   "outputs": [],
   "source": [
    "l.append(l.pop(0))"
   ]
  },
  {
   "cell_type": "code",
   "execution_count": 13,
   "metadata": {},
   "outputs": [
    {
     "data": {
      "text/plain": [
       "[5, 2]"
      ]
     },
     "execution_count": 13,
     "metadata": {},
     "output_type": "execute_result"
    }
   ],
   "source": [
    "l"
   ]
  },
  {
   "cell_type": "code",
   "execution_count": 14,
   "metadata": {},
   "outputs": [],
   "source": [
    "n=20\n",
    "l = list(range(n))\n"
   ]
  },
  {
   "cell_type": "code",
   "execution_count": 15,
   "metadata": {},
   "outputs": [
    {
     "name": "stdout",
     "output_type": "stream",
     "text": [
      "1\n",
      "[2, 3, 4, 5, 6, 7, 8, 9, 10, 11, 12, 13, 14, 15, 16, 17, 18, 19, 1]\n",
      "[0]\n",
      "\n",
      "2\n",
      "[4, 5, 6, 7, 8, 9, 10, 11, 12, 13, 14, 15, 16, 17, 18, 19, 1, 3]\n",
      "[0, 2]\n",
      "\n",
      "3\n",
      "[6, 7, 8, 9, 10, 11, 12, 13, 14, 15, 16, 17, 18, 19, 1, 3, 5]\n",
      "[0, 2, 4]\n",
      "\n",
      "4\n",
      "[8, 9, 10, 11, 12, 13, 14, 15, 16, 17, 18, 19, 1, 3, 5, 7]\n",
      "[0, 2, 4, 6]\n",
      "\n",
      "5\n",
      "[10, 11, 12, 13, 14, 15, 16, 17, 18, 19, 1, 3, 5, 7, 9]\n",
      "[0, 2, 4, 6, 8]\n",
      "\n",
      "6\n",
      "[12, 13, 14, 15, 16, 17, 18, 19, 1, 3, 5, 7, 9, 11]\n",
      "[0, 2, 4, 6, 8, 10]\n",
      "\n",
      "7\n",
      "[14, 15, 16, 17, 18, 19, 1, 3, 5, 7, 9, 11, 13]\n",
      "[0, 2, 4, 6, 8, 10, 12]\n",
      "\n",
      "8\n",
      "[16, 17, 18, 19, 1, 3, 5, 7, 9, 11, 13, 15]\n",
      "[0, 2, 4, 6, 8, 10, 12, 14]\n",
      "\n",
      "9\n",
      "[18, 19, 1, 3, 5, 7, 9, 11, 13, 15, 17]\n",
      "[0, 2, 4, 6, 8, 10, 12, 14, 16]\n",
      "\n",
      "10\n",
      "[1, 3, 5, 7, 9, 11, 13, 15, 17, 19]\n",
      "[0, 2, 4, 6, 8, 10, 12, 14, 16, 18]\n",
      "\n",
      "11\n",
      "[5, 7, 9, 11, 13, 15, 17, 19, 3]\n",
      "[0, 2, 4, 6, 8, 10, 12, 14, 16, 18, 1]\n",
      "\n",
      "12\n",
      "[9, 11, 13, 15, 17, 19, 3, 7]\n",
      "[0, 2, 4, 6, 8, 10, 12, 14, 16, 18, 1, 5]\n",
      "\n",
      "13\n",
      "[13, 15, 17, 19, 3, 7, 11]\n",
      "[0, 2, 4, 6, 8, 10, 12, 14, 16, 18, 1, 5, 9]\n",
      "\n",
      "14\n",
      "[17, 19, 3, 7, 11, 15]\n",
      "[0, 2, 4, 6, 8, 10, 12, 14, 16, 18, 1, 5, 9, 13]\n",
      "\n",
      "15\n",
      "[3, 7, 11, 15, 19]\n",
      "[0, 2, 4, 6, 8, 10, 12, 14, 16, 18, 1, 5, 9, 13, 17]\n",
      "\n",
      "16\n",
      "[11, 15, 19, 7]\n",
      "[0, 2, 4, 6, 8, 10, 12, 14, 16, 18, 1, 5, 9, 13, 17, 3]\n",
      "\n",
      "17\n",
      "[19, 7, 15]\n",
      "[0, 2, 4, 6, 8, 10, 12, 14, 16, 18, 1, 5, 9, 13, 17, 3, 11]\n",
      "\n",
      "18\n",
      "[15, 7]\n",
      "[0, 2, 4, 6, 8, 10, 12, 14, 16, 18, 1, 5, 9, 13, 17, 3, 11, 19]\n",
      "\n",
      "19\n",
      "[7]\n",
      "[0, 2, 4, 6, 8, 10, 12, 14, 16, 18, 1, 5, 9, 13, 17, 3, 11, 19, 15]\n",
      "\n"
     ]
    }
   ],
   "source": [
    "n=20\n",
    "l = list(range(n))\n",
    "deleted = []\n",
    "steps = 0\n",
    "while len(l) > 1:\n",
    "    deleted.append(l.pop(0))\n",
    "    l.append(l.pop(0))\n",
    "    steps += 1\n",
    "    print(steps)\n",
    "    print(l)\n",
    "    print(deleted, end = \"\\n\\n\")"
   ]
  },
  {
   "cell_type": "code",
   "execution_count": 16,
   "metadata": {},
   "outputs": [
    {
     "name": "stdout",
     "output_type": "stream",
     "text": [
      "1\n",
      "[2, 3, 4, 5, 6, 7, 8, 9, 10, 11, 12, 13, 14, 15, 16, 17, 18, 19, 20, 1]\n",
      "[0]\n",
      "\n",
      "2\n",
      "[4, 5, 6, 7, 8, 9, 10, 11, 12, 13, 14, 15, 16, 17, 18, 19, 20, 1, 3]\n",
      "[0, 2]\n",
      "\n",
      "3\n",
      "[6, 7, 8, 9, 10, 11, 12, 13, 14, 15, 16, 17, 18, 19, 20, 1, 3, 5]\n",
      "[0, 2, 4]\n",
      "\n",
      "4\n",
      "[8, 9, 10, 11, 12, 13, 14, 15, 16, 17, 18, 19, 20, 1, 3, 5, 7]\n",
      "[0, 2, 4, 6]\n",
      "\n",
      "5\n",
      "[10, 11, 12, 13, 14, 15, 16, 17, 18, 19, 20, 1, 3, 5, 7, 9]\n",
      "[0, 2, 4, 6, 8]\n",
      "\n",
      "6\n",
      "[12, 13, 14, 15, 16, 17, 18, 19, 20, 1, 3, 5, 7, 9, 11]\n",
      "[0, 2, 4, 6, 8, 10]\n",
      "\n",
      "7\n",
      "[14, 15, 16, 17, 18, 19, 20, 1, 3, 5, 7, 9, 11, 13]\n",
      "[0, 2, 4, 6, 8, 10, 12]\n",
      "\n",
      "8\n",
      "[16, 17, 18, 19, 20, 1, 3, 5, 7, 9, 11, 13, 15]\n",
      "[0, 2, 4, 6, 8, 10, 12, 14]\n",
      "\n",
      "9\n",
      "[18, 19, 20, 1, 3, 5, 7, 9, 11, 13, 15, 17]\n",
      "[0, 2, 4, 6, 8, 10, 12, 14, 16]\n",
      "\n",
      "10\n",
      "[20, 1, 3, 5, 7, 9, 11, 13, 15, 17, 19]\n",
      "[0, 2, 4, 6, 8, 10, 12, 14, 16, 18]\n",
      "\n",
      "11\n",
      "[3, 5, 7, 9, 11, 13, 15, 17, 19, 1]\n",
      "[0, 2, 4, 6, 8, 10, 12, 14, 16, 18, 20]\n",
      "\n",
      "12\n",
      "[7, 9, 11, 13, 15, 17, 19, 1, 5]\n",
      "[0, 2, 4, 6, 8, 10, 12, 14, 16, 18, 20, 3]\n",
      "\n",
      "13\n",
      "[11, 13, 15, 17, 19, 1, 5, 9]\n",
      "[0, 2, 4, 6, 8, 10, 12, 14, 16, 18, 20, 3, 7]\n",
      "\n",
      "14\n",
      "[15, 17, 19, 1, 5, 9, 13]\n",
      "[0, 2, 4, 6, 8, 10, 12, 14, 16, 18, 20, 3, 7, 11]\n",
      "\n",
      "15\n",
      "[19, 1, 5, 9, 13, 17]\n",
      "[0, 2, 4, 6, 8, 10, 12, 14, 16, 18, 20, 3, 7, 11, 15]\n",
      "\n",
      "16\n",
      "[5, 9, 13, 17, 1]\n",
      "[0, 2, 4, 6, 8, 10, 12, 14, 16, 18, 20, 3, 7, 11, 15, 19]\n",
      "\n",
      "17\n",
      "[13, 17, 1, 9]\n",
      "[0, 2, 4, 6, 8, 10, 12, 14, 16, 18, 20, 3, 7, 11, 15, 19, 5]\n",
      "\n",
      "18\n",
      "[1, 9, 17]\n",
      "[0, 2, 4, 6, 8, 10, 12, 14, 16, 18, 20, 3, 7, 11, 15, 19, 5, 13]\n",
      "\n",
      "19\n",
      "[17, 9]\n",
      "[0, 2, 4, 6, 8, 10, 12, 14, 16, 18, 20, 3, 7, 11, 15, 19, 5, 13, 1]\n",
      "\n",
      "20\n",
      "[9]\n",
      "[0, 2, 4, 6, 8, 10, 12, 14, 16, 18, 20, 3, 7, 11, 15, 19, 5, 13, 1, 17]\n",
      "\n"
     ]
    }
   ],
   "source": [
    "n=21\n",
    "l = list(range(n))\n",
    "deleted = []\n",
    "steps = 0\n",
    "while len(l) > 1:\n",
    "    deleted.append(l.pop(0))\n",
    "    l.append(l.pop(0))\n",
    "    steps += 1\n",
    "    print(steps)\n",
    "    print(l)\n",
    "    print(deleted, end = \"\\n\\n\")"
   ]
  },
  {
   "cell_type": "code",
   "execution_count": 17,
   "metadata": {},
   "outputs": [],
   "source": [
    "import matplotlib.pyplot as plt"
   ]
  },
  {
   "cell_type": "code",
   "execution_count": 18,
   "metadata": {},
   "outputs": [],
   "source": [
    "n_points = 160\n",
    "a = 20* np.pi\n",
    "x = np.linspace(a, -a, n_points)"
   ]
  },
  {
   "cell_type": "code",
   "execution_count": 19,
   "metadata": {},
   "outputs": [],
   "source": [
    "y= [np.sin(t)/t for t in x if t != 0]"
   ]
  },
  {
   "cell_type": "code",
   "execution_count": 20,
   "metadata": {},
   "outputs": [
    {
     "data": {
      "text/plain": [
       "(160, 160)"
      ]
     },
     "execution_count": 20,
     "metadata": {},
     "output_type": "execute_result"
    }
   ],
   "source": [
    "len(x), len(y)"
   ]
  },
  {
   "cell_type": "code",
   "execution_count": 48,
   "metadata": {},
   "outputs": [
    {
     "data": {
      "text/plain": [
       "<matplotlib.collections.PathCollection at 0x23720b4e080>"
      ]
     },
     "execution_count": 48,
     "metadata": {},
     "output_type": "execute_result"
    },
    {
     "data": {
      "image/png": "[encoded data removed]",
      "text/plain": [
       "<Figure size 1152x432 with 1 Axes>"
      ]
     },
     "metadata": {
      "needs_background": "light"
     },
     "output_type": "display_data"
    }
   ],
   "source": [
    "plt.figure(figsize=(16,6))\n",
    "plt.plot(x, y, color =\"r\")\n",
    "plt.scatter(x=[0],y=[1])\n"
   ]
  },
  {
   "cell_type": "code",
   "execution_count": 49,
   "metadata": {},
   "outputs": [
    {
     "data": {
      "text/plain": [
       "[-5, -4, -3, -2, -1, 0, 1, 2, 3, 4]"
      ]
     },
     "execution_count": 49,
     "metadata": {},
     "output_type": "execute_result"
    }
   ],
   "source": [
    "u = list(range(-5,5))\n",
    "u"
   ]
  },
  {
   "cell_type": "code",
   "execution_count": 55,
   "metadata": {},
   "outputs": [
    {
     "name": "stdout",
     "output_type": "stream",
     "text": [
      "Value 0 not in list\n"
     ]
    },
    {
     "data": {
      "text/plain": [
       "[-5, -4, -3, -2, -1, 1, 2, 3, 4]"
      ]
     },
     "execution_count": 55,
     "metadata": {},
     "output_type": "execute_result"
    }
   ],
   "source": [
    "to_delete = 0\n",
    "try:\n",
    "    u.remove(0)\n",
    "except ValueError:\n",
    "    print(f\"Value {to_delete} not in list\")\n",
    "except :\n",
    "    print(\"An error occured\")\n",
    "u"
   ]
  },
  {
   "cell_type": "code",
   "execution_count": 65,
   "metadata": {},
   "outputs": [
    {
     "data": {
      "text/plain": [
       "array([-5, -4, -3, -2,  0,  1,  2,  3,  4])"
      ]
     },
     "execution_count": 65,
     "metadata": {},
     "output_type": "execute_result"
    }
   ],
   "source": [
    "uv = np.array(range(-5,5))\n",
    "np.delete(uv, 4)"
   ]
  },
  {
   "cell_type": "code",
   "execution_count": 63,
   "metadata": {},
   "outputs": [
    {
     "data": {
      "text/plain": [
       "array([-5, -4, -3, -2, -1,  0,  1,  2,  3,  4])"
      ]
     },
     "execution_count": 63,
     "metadata": {},
     "output_type": "execute_result"
    }
   ],
   "source": [
    "uv"
   ]
  },
  {
   "cell_type": "code",
   "execution_count": null,
   "metadata": {},
   "outputs": [],
   "source": [
    "np."
   ]
  }
 ],
 "metadata": {
  "kernelspec": {
   "display_name": "Python 3",
   "language": "python",
   "name": "python3"
  },
  "language_info": {
   "codemirror_mode": {
    "name": "ipython",
    "version": 3
   },
   "file_extension": ".py",
   "mimetype": "text/x-python",
   "name": "python",
   "nbconvert_exporter": "python",
   "pygments_lexer": "ipython3",
   "version": "3.7.3"
  }
 },
 "nbformat": 4,
 "nbformat_minor": 2
}
